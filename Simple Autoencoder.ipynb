{
 "cells": [
  {
   "cell_type": "code",
   "execution_count": 1,
   "id": "1a7052dc",
   "metadata": {},
   "outputs": [],
   "source": [
    "import tensorflow as tf\n",
    "import librosa\n",
    "import numpy as np\n",
    "import matplotlib.pyplot as plt\n",
    "from PIL import Image\n",
    "import skimage.io as io\n",
    "import pandas as pd\n",
    "import os\n",
    "%load_ext tensorboard"
   ]
  },
  {
   "cell_type": "code",
   "execution_count": 2,
   "id": "f8845e23",
   "metadata": {},
   "outputs": [
    {
     "name": "stdout",
     "output_type": "stream",
     "text": [
      "Found 800 files belonging to 10 classes.\n",
      "Using 640 files for training.\n",
      "Found 199 files belonging to 10 classes.\n",
      "Using 39 files for validation.\n"
     ]
    }
   ],
   "source": [
    "batch_size = 32\n",
    "\n",
    "img_width = 1024\n",
    "img_height = 128\n",
    "\n",
    "train_directory = 'data/GTZAN/mel_images/train'\n",
    "test_directory = 'data/GTZAN/mel_images/test'\n",
    "\n",
    "train_ds = tf.keras.utils.image_dataset_from_directory(directory=train_directory,\n",
    "                                                       validation_split=0.2,\n",
    "                                                       subset='training',\n",
    "                                                       seed=42,\n",
    "                                                       image_size=(img_height, img_width),\n",
    "                                                       batch_size=batch_size,\n",
    "                                                       color_mode='grayscale'\n",
    "                                                        )\n",
    "\n",
    "val_ds = tf.keras.utils.image_dataset_from_directory(directory=test_directory,\n",
    "                                                     validation_split=0.2,\n",
    "                                                     subset='validation',\n",
    "                                                     seed=42,\n",
    "                                                     image_size=(img_height, img_width),\n",
    "                                                     batch_size=batch_size,\n",
    "                                                     color_mode='grayscale'\n",
    "                                                    )"
   ]
  },
  {
   "cell_type": "code",
   "execution_count": 3,
   "id": "f3205a82",
   "metadata": {},
   "outputs": [],
   "source": [
    "def augment_using_ops(images, labels):\n",
    "    scale=1./255\n",
    "    images=images*scale\n",
    "    return (images, labels)\n",
    "\n",
    "train_ds = train_ds.cache().map(augment_using_ops, num_parallel_calls=tf.data.AUTOTUNE).shuffle(1000).prefetch(tf.data.AUTOTUNE)\n",
    "val_ds = val_ds.cache().map(augment_using_ops, num_parallel_calls=tf.data.AUTOTUNE).prefetch(tf.data.AUTOTUNE)"
   ]
  },
  {
   "cell_type": "code",
   "execution_count": 221,
   "id": "bc4e121b",
   "metadata": {},
   "outputs": [],
   "source": [
    "from tensorflow.keras.models import Sequential\n",
    "from tensorflow.keras.layers import Dense, Conv2D, MaxPool2D , Flatten, Dropout, Reshape, Conv2DTranspose, UpSampling2D\n",
    "from tensorflow.keras.optimizers import Adam\n",
    "from tensorflow.keras.callbacks import EarlyStopping\n",
    "\n",
    "\n",
    "steps_per_epoch = len(train_ds)\n",
    "\n",
    "validation_steps = len(val_ds)\n",
    "\n",
    "opt = Adam(learning_rate=0.001)\n",
    "\n",
    "\n",
    "class Autoencoder(tf.keras.Model):\n",
    "    \n",
    "    def __init__(self, latent_dim):\n",
    "        super(Autoencoder, self).__init__()\n",
    "        self.latent_dim = latent_dim\n",
    "        self.encoder = Sequential([\n",
    "            Conv2D(input_shape=(img_height, img_width, 1), filters=32, kernel_size=(3,3), padding=\"same\", activation=\"relu\"),\n",
    "            MaxPool2D(pool_size=(4,4),padding= 'same'),\n",
    "            Conv2D(filters=64, kernel_size=(3,3), padding=\"same\", activation=\"relu\"),\n",
    "            MaxPool2D(pool_size=(4,4), padding= 'same'),\n",
    "            Conv2D(filters=128, kernel_size=(3,3), padding=\"same\", activation=\"relu\"),\n",
    "            MaxPool2D(pool_size=(4,4), padding= 'same'),\n",
    "            Conv2D(filters=256, kernel_size=(3,3), padding=\"same\", activation=\"relu\"),\n",
    "            MaxPool2D(pool_size=(4,4), padding= 'same'),\n",
    "            Flatten(),\n",
    "            Dense(units=latent_dim)\n",
    "        ])\n",
    "        self.decoder = Sequential([\n",
    "            tf.keras.layers.InputLayer(input_shape=(latent_dim,)),\n",
    "            Dense(units=1024,activation=\"relu\"),\n",
    "            Reshape(target_shape=(1,4,256)),\n",
    "            Conv2DTranspose(filters=256, kernel_size=(3,3), padding=\"same\", activation=\"relu\"),\n",
    "            UpSampling2D((2,4)),\n",
    "            Conv2DTranspose(filters=128, kernel_size=(3,3), padding=\"same\", activation=\"relu\"),\n",
    "            UpSampling2D((4,4)),\n",
    "            Conv2DTranspose(filters=64, kernel_size=(3,3), padding=\"same\", activation=\"relu\"),\n",
    "            UpSampling2D((4,4)),\n",
    "            Conv2DTranspose(filters=32, kernel_size=(3,3), padding=\"same\", activation=\"relu\"),\n",
    "            UpSampling2D((4,4)),\n",
    "            Conv2DTranspose(filters=1, kernel_size=(3,3), padding=\"same\",),\n",
    "        ])\n",
    "        \n",
    "    def call(self, x):\n",
    "        encoded = self.encoder(x)\n",
    "        decoded = self.decoder(encoded)\n",
    "        return decoded\n",
    "    \n",
    "autoencoder = Autoencoder(256)\n",
    "\n",
    "def loss(model, original):\n",
    "    reconstruction_error = tf.reduce_mean(tf.square(tf.subtract(model(original), original)))\n",
    "    return reconstruction_error\n",
    "\n",
    "def train(loss, model, opt, original):\n",
    "    with tf.GradientTape() as tape:\n",
    "        gradients = tape.gradient(loss(model, original), model.trainable_variables)\n",
    "        gradient_variables = zip(gradients, model.trainable_variables)\n",
    "        opt.apply_gradients(gradient_variables)\n",
    "        \n",
    "writer = tf.summary.create_file_writer('tmp')\n",
    "\n",
    "epochs = 20"
   ]
  },
  {
   "cell_type": "code",
   "execution_count": 222,
   "id": "46b0e48b",
   "metadata": {
    "scrolled": true
   },
   "outputs": [
    {
     "name": "stdout",
     "output_type": "stream",
     "text": [
      "epoch: 1, step: 20/20, loss: 0.12255       \n",
      "\n",
      "epoch: 2, step: 20/20, loss: 0.03735       \n",
      "\n",
      "epoch: 3, step: 20/20, loss: 0.0299        \n",
      "\n",
      "epoch: 4, step: 20/20, loss: 0.02971       \n",
      "\n",
      "epoch: 5, step: 20/20, loss: 0.02911       \n",
      "\n",
      "epoch: 6, step: 20/20, loss: 0.03084       \n",
      "\n",
      "epoch: 7, step: 20/20, loss: 0.02854       \n",
      "\n",
      "epoch: 8, step: 20/20, loss: 0.02972       \n",
      "\n",
      "epoch: 9, step: 20/20, loss: 0.02856       \n",
      "\n",
      "epoch: 10, step: 20/20, loss: 0.0279        \n",
      "\n",
      "epoch: 11, step: 20/20, loss: 0.02908       \n",
      "\n",
      "epoch: 12, step: 20/20, loss: 0.02691       \n",
      "\n",
      "epoch: 13, step: 20/20, loss: 0.02647       \n",
      "\n",
      "epoch: 14, step: 20/20, loss: 0.02545       \n",
      "\n",
      "epoch: 15, step: 20/20, loss: 0.02741       \n",
      "\n",
      "epoch: 16, step: 20/20, loss: 0.02693       \n",
      "\n",
      "epoch: 17, step: 20/20, loss: 0.02572       \n",
      "\n",
      "epoch: 18, step: 20/20, loss: 0.0259        \n",
      "\n",
      "epoch: 19, step: 20/20, loss: 0.02557       \n",
      "\n",
      "epoch: 20, step: 20/20, loss: 0.02694       \n",
      "\n"
     ]
    }
   ],
   "source": [
    "with writer.as_default():\n",
    "    with tf.summary.record_if(True):\n",
    "        for epoch in range(epochs):\n",
    "            for step, batch_features in enumerate(train_ds):\n",
    "                batch_features = batch_features[0]\n",
    "                train(loss, autoencoder, opt, batch_features)\n",
    "                loss_values = loss(autoencoder, batch_features)\n",
    "#                 original = tf.reshape(batch_features, (batch_features.shape[0], 128, 1024, 1))\n",
    "#                 reconstructed = tf.reshape(autoencoder(tf.constant(batch_features)), (batch_features.shape[0], 128, 1024, 1))\n",
    "#                 tf.summary.scalar('loss', loss_values, step=step)\n",
    "#                 tf.summary.image('original', original, max_outputs=10, step=step)\n",
    "#                 tf.summary.image('reconstructed', reconstructed, max_outputs=10, step=step)\n",
    "                print(f'epoch: {epoch+1}, step: {step+1}/{steps_per_epoch}, loss: {round(float(loss_values), 5)}       ', end='\\r')\n",
    "            print('\\n')"
   ]
  },
  {
   "cell_type": "code",
   "execution_count": 231,
   "id": "d809f8b9",
   "metadata": {},
   "outputs": [],
   "source": [
    "test_img = np.array(Image.open('data/test_img.png').resize((1024,128)))\n",
    "test_img = test_img * 1./255\n",
    "test_img = test_img.reshape(1, 128, 1024, 1)\n",
    "\n",
    "prediction = autoencoder(test_img)"
   ]
  },
  {
   "cell_type": "code",
   "execution_count": 256,
   "id": "baaba305",
   "metadata": {},
   "outputs": [
    {
     "data": {
      "text/plain": [
       "<matplotlib.image.AxesImage at 0x2a44644f0>"
      ]
     },
     "execution_count": 256,
     "metadata": {},
     "output_type": "execute_result"
    },
    {
     "data": {
      "image/png": "[encoded data removed]",
      "text/plain": [
       "<Figure size 1080x1080 with 1 Axes>"
      ]
     },
     "metadata": {
      "needs_background": "light"
     },
     "output_type": "display_data"
    }
   ],
   "source": [
    "plt.figure(figsize=(15,15))\n",
    "plt.imshow(np.array(prediction[0]*255, dtype=np.uint8))"
   ]
  },
  {
   "cell_type": "code",
   "execution_count": null,
   "id": "0349d1ef",
   "metadata": {},
   "outputs": [],
   "source": []
  }
 ],
 "metadata": {
  "kernelspec": {
   "display_name": "Python 3 (ipykernel)",
   "language": "python",
   "name": "python3"
  },
  "language_info": {
   "codemirror_mode": {
    "name": "ipython",
    "version": 3
   },
   "file_extension": ".py",
   "mimetype": "text/x-python",
   "name": "python",
   "nbconvert_exporter": "python",
   "pygments_lexer": "ipython3",
   "version": "3.9.13"
  }
 },
 "nbformat": 4,
 "nbformat_minor": 5
}
