{
 "cells": [
  {
   "cell_type": "code",
   "execution_count": 1,
   "id": "4b2529e6",
   "metadata": {},
   "outputs": [],
   "source": [
    "import tensorflow as tf\n",
    "import librosa\n",
    "import numpy as np\n",
    "import matplotlib.pyplot as plt\n",
    "from PIL import Image\n",
    "import skimage.io as io\n",
    "import pandas as pd\n",
    "import os"
   ]
  },
  {
   "cell_type": "code",
   "execution_count": 2,
   "id": "03f44476",
   "metadata": {},
   "outputs": [],
   "source": [
    "from sklearn.preprocessing import MinMaxScaler\n",
    "\n",
    "def convert_audio_to_mel_image(filepath_to_audio, filepath_to_save, n_mels=128, fmax=8000):\n",
    "    signal, sr = librosa.load(filepath_to_audio)\n",
    "    mels = librosa.power_to_db(librosa.feature.melspectrogram(y=signal, sr=sr, n_mels=n_mels, fmax=fmax), ref=np.max)\n",
    "    scaler = MinMaxScaler()\n",
    "    image = (scaler.fit_transform(mels)*255).astype(np.uint8)\n",
    "    image = np.flip(image, axis=0)\n",
    "    #image = 255-image\n",
    "    io.imsave(filepath_to_save, image)"
   ]
  },
  {
   "cell_type": "code",
   "execution_count": 3,
   "id": "8ac49643",
   "metadata": {},
   "outputs": [
    {
     "name": "stderr",
     "output_type": "stream",
     "text": [
      "/Users/michaelroth/miniforge3/envs/golden_env/lib/python3.9/site-packages/librosa/util/decorators.py:88: UserWarning: PySoundFile failed. Trying audioread instead.\n",
      "  return f(*args, **kwargs)\n"
     ]
    }
   ],
   "source": [
    "convert_audio_to_mel_image('data/preview_test.mp3','data/test_img.png', n_mels=256)"
   ]
  },
  {
   "cell_type": "code",
   "execution_count": 4,
   "id": "764ffec4",
   "metadata": {},
   "outputs": [],
   "source": [
    "test_csv = pd.read_csv('data/GTZAN/features_30_sec.csv')"
   ]
  },
  {
   "cell_type": "code",
   "execution_count": 5,
   "id": "94e1b48e",
   "metadata": {},
   "outputs": [],
   "source": [
    "base_path = 'data/GTZAN/genres_original/'\n",
    "genre_folders = os.listdir(base_path)"
   ]
  },
  {
   "cell_type": "code",
   "execution_count": 6,
   "id": "1d2ea9e0",
   "metadata": {},
   "outputs": [],
   "source": [
    "all_files = []\n",
    "for genre in genre_folders:\n",
    "    if genre[0] != '.':\n",
    "        sound_files = os.listdir(base_path+genre)\n",
    "        for file in sound_files:\n",
    "            all_files.append((base_path + genre + '/' + file, genre, file))"
   ]
  },
  {
   "cell_type": "code",
   "execution_count": 7,
   "id": "c0236a04",
   "metadata": {},
   "outputs": [],
   "source": [
    "all_files_df = pd.DataFrame(all_files)\n",
    "all_files_df.columns = ['filepath', 'genre', 'filename']"
   ]
  },
  {
   "cell_type": "code",
   "execution_count": 8,
   "id": "fa9b51f2",
   "metadata": {},
   "outputs": [],
   "source": [
    "all_files_df = all_files_df.sample(frac=1, random_state=42)"
   ]
  },
  {
   "cell_type": "code",
   "execution_count": 9,
   "id": "684df8ef",
   "metadata": {},
   "outputs": [],
   "source": [
    "split_ratio = 0.8\n",
    "split_index = round(split_ratio * len(all_files_df))\n",
    "\n",
    "train_df = all_files_df[:split_index]\n",
    "test_df = all_files_df[split_index:]"
   ]
  },
  {
   "cell_type": "code",
   "execution_count": 10,
   "id": "3c1f10cf",
   "metadata": {},
   "outputs": [],
   "source": [
    "def create_training_images(row, base_folder, sub_folder):\n",
    "    img_base_path = f'{base_folder}'\n",
    "    try:\n",
    "        os.mkdir(img_base_path)\n",
    "    except:\n",
    "        pass\n",
    "    img_base_path = f'{base_folder}/{sub_folder}'\n",
    "    try:\n",
    "        os.mkdir(img_base_path)\n",
    "    except:\n",
    "        pass\n",
    "    try:\n",
    "        os.mkdir(img_base_path+'/'+row.genre)\n",
    "    except:\n",
    "        pass\n",
    "    new_path = img_base_path +'/'+ row.genre + '/' + '.'.join(row.filename.split('.')[:2])+'.png'\n",
    "    try:\n",
    "        convert_audio_to_mel_image(row.filepath, new_path)\n",
    "    except:\n",
    "        print('could not convert:', new_path)"
   ]
  },
  {
   "cell_type": "code",
   "execution_count": 11,
   "id": "df36d0b8",
   "metadata": {
    "scrolled": true
   },
   "outputs": [
    {
     "name": "stderr",
     "output_type": "stream",
     "text": [
      "/Users/michaelroth/opt/anaconda3/envs/it_works/lib/python3.8/site-packages/librosa/util/decorators.py:88: UserWarning: PySoundFile failed. Trying audioread instead.\n",
      "  return f(*args, **kwargs)\n"
     ]
    },
    {
     "name": "stdout",
     "output_type": "stream",
     "text": [
      "could not convert: data/GTZAN/mel_images/test/jazz/jazz.00054.png\n"
     ]
    },
    {
     "data": {
      "text/plain": [
       "556    None\n",
       "957    None\n",
       "577    None\n",
       "795    None\n",
       "85     None\n",
       "       ... \n",
       "106    None\n",
       "270    None\n",
       "860    None\n",
       "435    None\n",
       "102    None\n",
       "Length: 200, dtype: object"
      ]
     },
     "execution_count": 11,
     "metadata": {},
     "output_type": "execute_result"
    }
   ],
   "source": [
    "train_df.apply(create_training_images, base_folder='data/GTZAN/mel_images', sub_folder='train', axis=1)\n",
    "test_df.apply(create_training_images, base_folder='data/GTZAN/mel_images', sub_folder='test', axis=1)"
   ]
  },
  {
   "cell_type": "code",
   "execution_count": 10,
   "id": "dd83c79d",
   "metadata": {},
   "outputs": [
    {
     "name": "stdout",
     "output_type": "stream",
     "text": [
      "Found 800 files belonging to 10 classes.\n",
      "Using 640 files for training.\n",
      "Metal device set to: Apple M1 Pro\n",
      "Found 199 files belonging to 10 classes.\n",
      "Using 39 files for validation.\n"
     ]
    },
    {
     "name": "stderr",
     "output_type": "stream",
     "text": [
      "2022-08-08 17:26:18.679480: I tensorflow/core/common_runtime/pluggable_device/pluggable_device_factory.cc:305] Could not identify NUMA node of platform GPU ID 0, defaulting to 0. Your kernel may not have been built with NUMA support.\n",
      "2022-08-08 17:26:18.679637: I tensorflow/core/common_runtime/pluggable_device/pluggable_device_factory.cc:271] Created TensorFlow device (/job:localhost/replica:0/task:0/device:GPU:0 with 0 MB memory) -> physical PluggableDevice (device: 0, name: METAL, pci bus id: <undefined>)\n"
     ]
    }
   ],
   "source": [
    "batch_size = 32\n",
    "\n",
    "img_width = 1024\n",
    "img_height = 128\n",
    "\n",
    "train_directory = 'data/GTZAN/mel_images/train'\n",
    "test_directory = 'data/GTZAN/mel_images/test'\n",
    "\n",
    "train_ds = tf.keras.utils.image_dataset_from_directory(directory=train_directory,\n",
    "                                                       validation_split=0.2,\n",
    "                                                       subset='training',\n",
    "                                                       seed=42,\n",
    "                                                       image_size=(img_height, img_width),\n",
    "                                                       batch_size=batch_size,\n",
    "                                                       color_mode='grayscale'\n",
    "                                                        )\n",
    "\n",
    "val_ds = tf.keras.utils.image_dataset_from_directory(directory=test_directory,\n",
    "                                                     validation_split=0.2,\n",
    "                                                     subset='validation',\n",
    "                                                     seed=42,\n",
    "                                                     image_size=(img_height, img_width),\n",
    "                                                     batch_size=batch_size,\n",
    "                                                     color_mode='grayscale'\n",
    "                                                    )"
   ]
  },
  {
   "cell_type": "code",
   "execution_count": 11,
   "id": "8c43a1f7",
   "metadata": {},
   "outputs": [],
   "source": [
    "def augment_using_ops(images, labels):\n",
    "    scale=1./255\n",
    "    images=images*scale\n",
    "    return (images, labels)\n",
    "\n",
    "train_ds = train_ds.cache().map(augment_using_ops, num_parallel_calls=tf.data.AUTOTUNE).shuffle(1000).prefetch(tf.data.AUTOTUNE)\n",
    "val_ds = val_ds.cache().map(augment_using_ops, num_parallel_calls=tf.data.AUTOTUNE).prefetch(tf.data.AUTOTUNE)"
   ]
  },
  {
   "cell_type": "code",
   "execution_count": 120,
   "id": "2b29deef",
   "metadata": {},
   "outputs": [],
   "source": [
    "from tensorflow.keras.models import Sequential\n",
    "from tensorflow.keras.layers import Dense, Conv2D, MaxPool2D , Flatten, Dropout\n",
    "from tensorflow.keras.optimizers import Adam\n",
    "from tensorflow.keras.callbacks import EarlyStopping\n",
    "\n",
    "\n",
    "model = Sequential([\n",
    "    Conv2D(input_shape=(img_height, img_width, 1), filters=32, kernel_size=(3,3), padding=\"same\", activation=\"relu\"),\n",
    "    MaxPool2D(pool_size=(4,4),padding= 'same'),\n",
    "    Conv2D(filters=64, kernel_size=(3,3), padding=\"same\", activation=\"relu\"),\n",
    "    MaxPool2D(pool_size=(4,4), padding= 'same'),\n",
    "    Conv2D(filters=128, kernel_size=(3,3), padding=\"same\", activation=\"relu\"),\n",
    "    MaxPool2D(pool_size=(4,4), padding= 'same'),\n",
    "    Conv2D(filters=256, kernel_size=(3,3), padding=\"same\", activation=\"relu\"),\n",
    "    MaxPool2D(pool_size=(4,4), padding= 'same'),\n",
    "    Flatten(),\n",
    "    Dense(units=256,activation=\"relu\"),\n",
    "    Dense(units=10, activation='softmax')\n",
    "])\n",
    "\n",
    "\n",
    "\n",
    "steps_per_epoch = len(train_ds)\n",
    "\n",
    "validation_steps = len(val_ds)\n",
    "\n",
    "opt = Adam(learning_rate=0.001)\n",
    "\n",
    "model.compile(optimizer=opt, loss='sparse_categorical_crossentropy', metrics=['acc'])\n",
    "\n",
    "early_stopping = EarlyStopping(monitor='val_acc', restore_best_weights=True, patience=20)\n",
    "checkpoint = tf.keras.callbacks.ModelCheckpoint(filepath='data/checkpoints',\n",
    "                                                 save_weights_only=True,\n",
    "                                                 verbose=1,\n",
    "                                                 )"
   ]
  },
  {
   "cell_type": "code",
   "execution_count": 121,
   "id": "6665aefd",
   "metadata": {},
   "outputs": [
    {
     "name": "stdout",
     "output_type": "stream",
     "text": [
      "Epoch 1/200\n"
     ]
    },
    {
     "name": "stderr",
     "output_type": "stream",
     "text": [
      "2022-08-08 16:26:56.114551: I tensorflow/core/grappler/optimizers/custom_graph_optimizer_registry.cc:112] Plugin optimizer for device_type GPU is enabled.\n"
     ]
    },
    {
     "name": "stdout",
     "output_type": "stream",
     "text": [
      "20/20 [==============================] - 4s 183ms/step - loss: 2.3105 - acc: 0.0859 - val_loss: 2.3023 - val_acc: 0.0769\n",
      "Epoch 2/200\n"
     ]
    },
    {
     "name": "stderr",
     "output_type": "stream",
     "text": [
      "2022-08-08 16:26:59.810986: I tensorflow/core/grappler/optimizers/custom_graph_optimizer_registry.cc:112] Plugin optimizer for device_type GPU is enabled.\n"
     ]
    },
    {
     "name": "stdout",
     "output_type": "stream",
     "text": [
      "20/20 [==============================] - 4s 175ms/step - loss: 2.3009 - acc: 0.1203 - val_loss: 2.2966 - val_acc: 0.1282\n",
      "Epoch 3/200\n",
      "20/20 [==============================] - 4s 178ms/step - loss: 2.2786 - acc: 0.1344 - val_loss: 2.1955 - val_acc: 0.2051\n",
      "Epoch 4/200\n",
      "20/20 [==============================] - 4s 176ms/step - loss: 2.0915 - acc: 0.2094 - val_loss: 2.0141 - val_acc: 0.3077\n",
      "Epoch 5/200\n",
      "20/20 [==============================] - 3s 174ms/step - loss: 1.8248 - acc: 0.3094 - val_loss: 1.8495 - val_acc: 0.3590\n",
      "Epoch 6/200\n",
      "20/20 [==============================] - 4s 175ms/step - loss: 1.7774 - acc: 0.3000 - val_loss: 1.8737 - val_acc: 0.2821\n",
      "Epoch 7/200\n",
      "20/20 [==============================] - 4s 175ms/step - loss: 1.6468 - acc: 0.3422 - val_loss: 1.9048 - val_acc: 0.2051\n",
      "Epoch 8/200\n",
      "20/20 [==============================] - 3s 174ms/step - loss: 1.5383 - acc: 0.3750 - val_loss: 1.5211 - val_acc: 0.5385\n",
      "Epoch 9/200\n",
      "20/20 [==============================] - 3s 174ms/step - loss: 1.4447 - acc: 0.4031 - val_loss: 1.5244 - val_acc: 0.5385\n",
      "Epoch 10/200\n",
      "20/20 [==============================] - 3s 174ms/step - loss: 1.4484 - acc: 0.4281 - val_loss: 1.6381 - val_acc: 0.4872\n",
      "Epoch 11/200\n",
      "20/20 [==============================] - 4s 175ms/step - loss: 1.3927 - acc: 0.4391 - val_loss: 1.4675 - val_acc: 0.4359\n",
      "Epoch 12/200\n",
      "20/20 [==============================] - 3s 174ms/step - loss: 1.3478 - acc: 0.4781 - val_loss: 1.5032 - val_acc: 0.5641\n",
      "Epoch 13/200\n",
      "20/20 [==============================] - 4s 175ms/step - loss: 1.2872 - acc: 0.4750 - val_loss: 1.8328 - val_acc: 0.3590\n",
      "Epoch 14/200\n",
      "20/20 [==============================] - 3s 174ms/step - loss: 1.2137 - acc: 0.5312 - val_loss: 1.3775 - val_acc: 0.5897\n",
      "Epoch 15/200\n",
      "20/20 [==============================] - 3s 174ms/step - loss: 1.1469 - acc: 0.5484 - val_loss: 1.4851 - val_acc: 0.4872\n",
      "Epoch 16/200\n",
      "20/20 [==============================] - 3s 174ms/step - loss: 1.1631 - acc: 0.5500 - val_loss: 1.4170 - val_acc: 0.5385\n",
      "Epoch 17/200\n",
      "20/20 [==============================] - 4s 176ms/step - loss: 1.0909 - acc: 0.5703 - val_loss: 1.3443 - val_acc: 0.5641\n",
      "Epoch 18/200\n",
      "20/20 [==============================] - 4s 175ms/step - loss: 1.0033 - acc: 0.6453 - val_loss: 1.4075 - val_acc: 0.5897\n",
      "Epoch 19/200\n",
      "20/20 [==============================] - 4s 175ms/step - loss: 0.9794 - acc: 0.6203 - val_loss: 1.2149 - val_acc: 0.6410\n",
      "Epoch 20/200\n",
      "20/20 [==============================] - 4s 175ms/step - loss: 0.8974 - acc: 0.6641 - val_loss: 1.3877 - val_acc: 0.5385\n",
      "Epoch 21/200\n",
      "20/20 [==============================] - 4s 175ms/step - loss: 0.8856 - acc: 0.6609 - val_loss: 1.2637 - val_acc: 0.6667\n",
      "Epoch 22/200\n",
      "20/20 [==============================] - 3s 174ms/step - loss: 0.8008 - acc: 0.7125 - val_loss: 1.4545 - val_acc: 0.5385\n",
      "Epoch 23/200\n",
      "20/20 [==============================] - 4s 176ms/step - loss: 0.8817 - acc: 0.6469 - val_loss: 1.3421 - val_acc: 0.5897\n",
      "Epoch 24/200\n",
      "20/20 [==============================] - 4s 175ms/step - loss: 0.8160 - acc: 0.6859 - val_loss: 1.2656 - val_acc: 0.6923\n",
      "Epoch 25/200\n",
      "20/20 [==============================] - 4s 176ms/step - loss: 0.6923 - acc: 0.7594 - val_loss: 1.2707 - val_acc: 0.7436\n",
      "Epoch 26/200\n",
      "20/20 [==============================] - 4s 177ms/step - loss: 0.6406 - acc: 0.7578 - val_loss: 1.4797 - val_acc: 0.5128\n",
      "Epoch 27/200\n",
      "20/20 [==============================] - 3s 175ms/step - loss: 0.6403 - acc: 0.7875 - val_loss: 1.2312 - val_acc: 0.6410\n",
      "Epoch 28/200\n",
      "20/20 [==============================] - 3s 174ms/step - loss: 0.5472 - acc: 0.8031 - val_loss: 1.4482 - val_acc: 0.6667\n",
      "Epoch 29/200\n",
      "20/20 [==============================] - 3s 174ms/step - loss: 0.5065 - acc: 0.8391 - val_loss: 1.4990 - val_acc: 0.6410\n",
      "Epoch 30/200\n",
      "20/20 [==============================] - 4s 175ms/step - loss: 0.6372 - acc: 0.7750 - val_loss: 1.0593 - val_acc: 0.6667\n",
      "Epoch 31/200\n",
      "20/20 [==============================] - 4s 175ms/step - loss: 0.4969 - acc: 0.8219 - val_loss: 1.3914 - val_acc: 0.6923\n",
      "Epoch 32/200\n",
      "20/20 [==============================] - 3s 175ms/step - loss: 0.4424 - acc: 0.8406 - val_loss: 1.2164 - val_acc: 0.7692\n",
      "Epoch 33/200\n",
      "20/20 [==============================] - 3s 174ms/step - loss: 0.3073 - acc: 0.9000 - val_loss: 1.7068 - val_acc: 0.6667\n",
      "Epoch 34/200\n",
      "20/20 [==============================] - 3s 174ms/step - loss: 0.2822 - acc: 0.9141 - val_loss: 1.5399 - val_acc: 0.7692\n",
      "Epoch 35/200\n",
      "20/20 [==============================] - 3s 174ms/step - loss: 0.2904 - acc: 0.9125 - val_loss: 1.9197 - val_acc: 0.5897\n",
      "Epoch 36/200\n",
      "20/20 [==============================] - 3s 174ms/step - loss: 0.3163 - acc: 0.8844 - val_loss: 1.3557 - val_acc: 0.7179\n",
      "Epoch 37/200\n",
      "20/20 [==============================] - 4s 175ms/step - loss: 0.1808 - acc: 0.9609 - val_loss: 1.6825 - val_acc: 0.7436\n",
      "Epoch 38/200\n",
      "20/20 [==============================] - 3s 174ms/step - loss: 0.1432 - acc: 0.9578 - val_loss: 1.9406 - val_acc: 0.6923\n",
      "Epoch 39/200\n",
      "20/20 [==============================] - 3s 174ms/step - loss: 0.1507 - acc: 0.9547 - val_loss: 1.8691 - val_acc: 0.7436\n",
      "Epoch 40/200\n",
      "20/20 [==============================] - 4s 175ms/step - loss: 0.0968 - acc: 0.9812 - val_loss: 1.7567 - val_acc: 0.7692\n",
      "Epoch 41/200\n",
      "20/20 [==============================] - 3s 174ms/step - loss: 0.0618 - acc: 0.9906 - val_loss: 1.9357 - val_acc: 0.7436\n",
      "Epoch 42/200\n",
      "20/20 [==============================] - 4s 175ms/step - loss: 0.0548 - acc: 0.9922 - val_loss: 1.9976 - val_acc: 0.7692\n",
      "Epoch 43/200\n",
      "20/20 [==============================] - 3s 174ms/step - loss: 0.0367 - acc: 1.0000 - val_loss: 1.9715 - val_acc: 0.6667\n",
      "Epoch 44/200\n",
      "20/20 [==============================] - 3s 174ms/step - loss: 0.0312 - acc: 0.9969 - val_loss: 2.0226 - val_acc: 0.7436\n",
      "Epoch 45/200\n",
      "20/20 [==============================] - 3s 174ms/step - loss: 0.0210 - acc: 1.0000 - val_loss: 2.1120 - val_acc: 0.7692\n",
      "Epoch 46/200\n",
      "20/20 [==============================] - 4s 177ms/step - loss: 0.0210 - acc: 1.0000 - val_loss: 2.0065 - val_acc: 0.7949\n",
      "Epoch 47/200\n",
      "20/20 [==============================] - 4s 176ms/step - loss: 0.0176 - acc: 1.0000 - val_loss: 2.2444 - val_acc: 0.7179\n",
      "Epoch 48/200\n",
      "20/20 [==============================] - 4s 176ms/step - loss: 0.0103 - acc: 1.0000 - val_loss: 2.2749 - val_acc: 0.7949\n",
      "Epoch 49/200\n",
      "20/20 [==============================] - 4s 175ms/step - loss: 0.0075 - acc: 1.0000 - val_loss: 2.2148 - val_acc: 0.7436\n",
      "Epoch 50/200\n",
      "20/20 [==============================] - 3s 174ms/step - loss: 0.0060 - acc: 1.0000 - val_loss: 2.2441 - val_acc: 0.7949\n",
      "Epoch 51/200\n",
      "20/20 [==============================] - 4s 175ms/step - loss: 0.0051 - acc: 1.0000 - val_loss: 2.2837 - val_acc: 0.7949\n",
      "Epoch 52/200\n",
      "20/20 [==============================] - 4s 175ms/step - loss: 0.0047 - acc: 1.0000 - val_loss: 2.3257 - val_acc: 0.7436\n",
      "Epoch 53/200\n",
      "20/20 [==============================] - 4s 175ms/step - loss: 0.0040 - acc: 1.0000 - val_loss: 2.3501 - val_acc: 0.7692\n",
      "Epoch 54/200\n",
      "20/20 [==============================] - 4s 176ms/step - loss: 0.0036 - acc: 1.0000 - val_loss: 2.3832 - val_acc: 0.7436\n",
      "Epoch 55/200\n",
      "20/20 [==============================] - 4s 175ms/step - loss: 0.0032 - acc: 1.0000 - val_loss: 2.4144 - val_acc: 0.7692\n",
      "Epoch 56/200\n",
      "20/20 [==============================] - 3s 174ms/step - loss: 0.0029 - acc: 1.0000 - val_loss: 2.4142 - val_acc: 0.7692\n",
      "Epoch 57/200\n",
      "20/20 [==============================] - 4s 176ms/step - loss: 0.0027 - acc: 1.0000 - val_loss: 2.4808 - val_acc: 0.7436\n",
      "Epoch 58/200\n",
      "20/20 [==============================] - 4s 179ms/step - loss: 0.0025 - acc: 1.0000 - val_loss: 2.4527 - val_acc: 0.7436\n",
      "Epoch 59/200\n",
      "20/20 [==============================] - 4s 175ms/step - loss: 0.0024 - acc: 1.0000 - val_loss: 2.5137 - val_acc: 0.7692\n",
      "Epoch 60/200\n",
      "20/20 [==============================] - 4s 175ms/step - loss: 0.0022 - acc: 1.0000 - val_loss: 2.5013 - val_acc: 0.7692\n",
      "Epoch 61/200\n",
      "20/20 [==============================] - 4s 176ms/step - loss: 0.0021 - acc: 1.0000 - val_loss: 2.5444 - val_acc: 0.7692\n",
      "Epoch 62/200\n",
      "20/20 [==============================] - 4s 175ms/step - loss: 0.0019 - acc: 1.0000 - val_loss: 2.5428 - val_acc: 0.7692\n",
      "Epoch 63/200\n",
      "20/20 [==============================] - 4s 175ms/step - loss: 0.0018 - acc: 1.0000 - val_loss: 2.5568 - val_acc: 0.7436\n",
      "Epoch 64/200\n",
      "20/20 [==============================] - 3s 174ms/step - loss: 0.0017 - acc: 1.0000 - val_loss: 2.5827 - val_acc: 0.7692\n",
      "Epoch 65/200\n",
      "20/20 [==============================] - 3s 174ms/step - loss: 0.0016 - acc: 1.0000 - val_loss: 2.5628 - val_acc: 0.7949\n",
      "Epoch 66/200\n",
      "20/20 [==============================] - 4s 175ms/step - loss: 0.0015 - acc: 1.0000 - val_loss: 2.6516 - val_acc: 0.7436\n"
     ]
    }
   ],
   "source": [
    "hist = model.fit(train_ds.repeat(),\n",
    "                        steps_per_epoch=steps_per_epoch,\n",
    "                        epochs=200,\n",
    "                        validation_data=val_ds,\n",
    "                        validation_steps=validation_steps,\n",
    "                        callbacks=early_stopping)"
   ]
  },
  {
   "cell_type": "code",
   "execution_count": 122,
   "id": "3c1436ab",
   "metadata": {},
   "outputs": [
    {
     "data": {
      "image/png": "[encoded data removed]",
      "text/plain": [
       "<Figure size 720x360 with 1 Axes>"
      ]
     },
     "metadata": {
      "needs_background": "light"
     },
     "output_type": "display_data"
    }
   ],
   "source": [
    "import matplotlib.pyplot as plt\n",
    "plt.figure(figsize=(10,5))\n",
    "plt.plot(range(len(hist.history['loss'])), hist.history['loss'], label='Training')\n",
    "plt.plot(range(len(hist.history['val_loss'])), hist.history['val_loss'], label='Validation')\n",
    "plt.suptitle('Model Training - Loss by Epoch')\n",
    "plt.legend()\n",
    "plt.show()"
   ]
  },
  {
   "cell_type": "code",
   "execution_count": 123,
   "id": "df261a03",
   "metadata": {},
   "outputs": [
    {
     "data": {
      "image/png": "[encoded data removed]",
      "text/plain": [
       "<Figure size 720x360 with 1 Axes>"
      ]
     },
     "metadata": {
      "needs_background": "light"
     },
     "output_type": "display_data"
    }
   ],
   "source": [
    "plt.figure(figsize=(10,5))\n",
    "plt.plot(range(len(hist.history['acc'])), hist.history['acc'], label='Training')\n",
    "plt.plot(range(len(hist.history['val_acc'])), hist.history['val_acc'], label='Validation')\n",
    "plt.suptitle('Model Training - Accuracy by Epoch')\n",
    "plt.legend()\n",
    "plt.show()"
   ]
  },
  {
   "cell_type": "code",
   "execution_count": 126,
   "id": "925077da",
   "metadata": {},
   "outputs": [],
   "source": [
    "test_img = np.array(Image.open('data/test_img.png').resize((1024,128)))\n",
    "test_img = test_img * 1./255\n",
    "test_img = test_img.reshape(1, 128, 1024, 1)\n",
    "prediction = model.predict(test_img)"
   ]
  },
  {
   "cell_type": "code",
   "execution_count": 127,
   "id": "dfaa58a3",
   "metadata": {},
   "outputs": [
    {
     "data": {
      "text/plain": [
       "array([[0.  , 0.  , 0.  , 0.03, 0.  , 0.  , 0.  , 0.96, 0.01, 0.  ]],\n",
       "      dtype=float32)"
      ]
     },
     "execution_count": 127,
     "metadata": {},
     "output_type": "execute_result"
    }
   ],
   "source": [
    "prediction.round(2)"
   ]
  },
  {
   "cell_type": "code",
   "execution_count": null,
   "id": "c05912f2",
   "metadata": {},
   "outputs": [],
   "source": []
  }
 ],
 "metadata": {
  "kernelspec": {
   "display_name": "Python 3 (ipykernel)",
   "language": "python",
   "name": "python3"
  },
  "language_info": {
   "codemirror_mode": {
    "name": "ipython",
    "version": 3
   },
   "file_extension": ".py",
   "mimetype": "text/x-python",
   "name": "python",
   "nbconvert_exporter": "python",
   "pygments_lexer": "ipython3",
   "version": "3.9.13"
  },
  "vscode": {
   "interpreter": {
    "hash": "070a145ccbfd94928d8b02e0f12481291355ea024c814c19aad4f054b2ae60ee"
   }
  }
 },
 "nbformat": 4,
 "nbformat_minor": 5
}
