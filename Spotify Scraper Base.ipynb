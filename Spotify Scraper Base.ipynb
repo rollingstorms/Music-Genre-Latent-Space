{
 "cells": [
  {
   "cell_type": "code",
   "execution_count": 1,
   "id": "c602c4a1",
   "metadata": {},
   "outputs": [],
   "source": [
    "import json\n",
    "import requests\n",
    "import pandas as pd\n",
    "import numpy as np\n",
    "import matplotlib.pyplot as plt\n",
    "%matplotlib inline\n",
    "import librosa"
   ]
  },
  {
   "cell_type": "code",
   "execution_count": 2,
   "id": "f9a41952",
   "metadata": {},
   "outputs": [],
   "source": [
    "#Load the api client id and secret from file\n",
    "f = open('data/.apikeys.json')\n",
    "apikeys = json.load(f)\n",
    "CLIENT_ID = apikeys['clientId']\n",
    "CLIENT_SECRET = apikeys['clientSecret']"
   ]
  },
  {
   "cell_type": "code",
   "execution_count": 3,
   "id": "e2e8db46",
   "metadata": {},
   "outputs": [],
   "source": [
    "#get access token\n",
    "AUTH_URL = 'https://accounts.spotify.com/api/token'\n",
    "\n",
    "auth_response = requests.post(AUTH_URL, {\n",
    "    'grant_type': 'client_credentials',\n",
    "    'client_id': CLIENT_ID,\n",
    "    'client_secret': CLIENT_SECRET,\n",
    "})\n",
    "\n",
    "# convert the response to JSON\n",
    "auth_response_data = auth_response.json()\n",
    "\n",
    "# save the access token\n",
    "access_token = auth_response_data['access_token']\n",
    "\n",
    "headers = {\n",
    "    'Authorization': f'Bearer {access_token}'\n",
    "}"
   ]
  },
  {
   "cell_type": "code",
   "execution_count": 4,
   "id": "bb610eb4",
   "metadata": {},
   "outputs": [],
   "source": [
    "# base URL of all Spotify API endpoints\n",
    "BASE_URL = 'https://api.spotify.com/v1/'\n",
    "\n",
    "# Track ID from the URI\n",
    "track_id = '1PeR6Q2g7EZDhDUIyCXLCG'\n",
    "\n",
    "# actual GET request with proper header\n",
    "analysis = requests.get(BASE_URL + 'tracks/' + track_id, headers=headers)"
   ]
  },
  {
   "cell_type": "code",
   "execution_count": 5,
   "id": "358c529f",
   "metadata": {},
   "outputs": [
    {
     "data": {
      "text/plain": [
       "<Response [200]>"
      ]
     },
     "execution_count": 5,
     "metadata": {},
     "output_type": "execute_result"
    }
   ],
   "source": [
    "analysis"
   ]
  },
  {
   "cell_type": "code",
   "execution_count": 7,
   "id": "55d4503d",
   "metadata": {},
   "outputs": [],
   "source": [
    "track_preview = requests.get('https://p.scdn.co/mp3-preview/9b49ac5a8e7ede11294765fda5ef7e1d5527752e?cid=b7c7e6c5cc364f5f895f13ec341ec814')"
   ]
  },
  {
   "cell_type": "code",
   "execution_count": 8,
   "id": "f7231251",
   "metadata": {},
   "outputs": [],
   "source": [
    "filename = 'data/preview_test.mp3'\n",
    "\n",
    "with open(filename, 'wb') as f:\n",
    "    f.write(track_preview.content)"
   ]
  },
  {
   "cell_type": "code",
   "execution_count": null,
   "id": "02d30d32",
   "metadata": {},
   "outputs": [],
   "source": []
  }
 ],
 "metadata": {
  "kernelspec": {
   "display_name": "Python 3.8.13 ('it_works')",
   "language": "python",
   "name": "python3"
  },
  "language_info": {
   "codemirror_mode": {
    "name": "ipython",
    "version": 3
   },
   "file_extension": ".py",
   "mimetype": "text/x-python",
   "name": "python",
   "nbconvert_exporter": "python",
   "pygments_lexer": "ipython3",
   "version": "3.8.13"
  },
  "vscode": {
   "interpreter": {
    "hash": "070a145ccbfd94928d8b02e0f12481291355ea024c814c19aad4f054b2ae60ee"
   }
  }
 },
 "nbformat": 4,
 "nbformat_minor": 5
}
