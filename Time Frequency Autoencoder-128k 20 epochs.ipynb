{
 "cells": [
  {
   "cell_type": "code",
   "execution_count": 1,
   "id": "0f51186b",
   "metadata": {},
   "outputs": [],
   "source": [
    "import os\n",
    "import tensorflow as tf\n",
    "import numpy as np\n",
    "import math\n",
    "from random import sample, shuffle\n",
    "from PIL import Image\n",
    "import matplotlib.pyplot as plt\n",
    "from src.DataGenerator import AudioDataGenerator\n",
    "from tensorflow.keras.models import Sequential\n",
    "from tensorflow.keras.layers import Dense, Conv2D , Flatten, Reshape, Conv2DTranspose, BatchNormalization, Conv1D, Input\n",
    "from tensorflow.keras import Model\n",
    "from tensorflow.keras.optimizers import Adam\n",
    "from tensorflow.keras.callbacks import EarlyStopping\n",
    "from src.helper_functions import plot_reconstruction\n",
    "import seaborn as sns\n"
   ]
  },
  {
   "cell_type": "code",
   "execution_count": 2,
   "id": "45b04549",
   "metadata": {},
   "outputs": [
    {
     "name": "stdout",
     "output_type": "stream",
     "text": [
      "Found 125440 files for Training set\n",
      "Found 2560 files for Test set\n"
     ]
    }
   ],
   "source": [
    "data_gen = AudioDataGenerator(\n",
    "    directory='data/Spotify/comp_pngs/', \n",
    "    image_size=(128,512), \n",
    "    color_mode='rgb',\n",
    "    batch_size=32,\n",
    "    sample_size=128000,\n",
    "    shuffle=True,\n",
    "    train_test_split=True, \n",
    "    test_size=0.02,\n",
    "    output_channel_index=0,\n",
    "    output_size=(128,128))\n"
   ]
  },
  {
   "cell_type": "code",
   "execution_count": 3,
   "id": "eadc025b",
   "metadata": {},
   "outputs": [],
   "source": [
    "img_width = 128\n",
    "img_height = 128\n",
    "kernel_size = 5\n",
    "strides = 2"
   ]
  },
  {
   "cell_type": "code",
   "execution_count": 4,
   "id": "fa937097",
   "metadata": {},
   "outputs": [],
   "source": [
    "class Time_Freq_Autoencoder_Builder:\n",
    "    \n",
    "    def build(width, height, depth, filters=(32,64,128,256), latent_dim=256, kernel_size=5):\n",
    "        \n",
    "        strides = 2\n",
    "        \n",
    "        input_shape = (height, width, depth)\n",
    "        inputs = Input(shape = input_shape)\n",
    "        \n",
    "        chan_dim = -1\n",
    "        \n",
    "        x_time = Reshape(target_shape=(height,width))(inputs)\n",
    "        x_freq = Reshape(target_shape=(height,width))(tf.transpose(inputs, perm=[0,2,1,3]))\n",
    "        \n",
    "        for f in filters:\n",
    "            \n",
    "            x_time = Conv1D(f, kernel_size=kernel_size, strides=strides, padding='same', activation='relu')(x_time)\n",
    "            x_time = BatchNormalization(axis=chan_dim)(x_time)\n",
    "            \n",
    "        x_time = Flatten()(x_time)\n",
    "        latent_time = Dense(latent_dim//2)(x_time)\n",
    "        \n",
    "        for f in filters:\n",
    "            \n",
    "            x_freq = Conv1D(f, kernel_size=kernel_size, strides=strides, padding='same', activation='relu')(x_freq)\n",
    "            x_freq = BatchNormalization(axis=chan_dim)(x_freq)\n",
    "            \n",
    "        x_freq = Flatten()(x_freq)\n",
    "        latent_freq = Dense(latent_dim//2)(x_freq)\n",
    "        \n",
    "        \n",
    "        latent_concat = tf.keras.layers.Concatenate(axis=1)([latent_time, latent_freq])\n",
    "        \n",
    "        encoder = Model(inputs, latent_concat, name='encoder')\n",
    "        \n",
    "        latent_inputs = Input(shape=((latent_dim//2)*2))\n",
    "        \n",
    "        x = Dense(16384, activation='relu')(latent_inputs)\n",
    "        x = Reshape(target_shape=(8,8,256))(x)\n",
    "        \n",
    "        for f in filters[::-1]:\n",
    "            \n",
    "            x = Conv2DTranspose(f, kernel_size=kernel_size, strides=strides, padding='same', activation='relu')(x)\n",
    "            x = BatchNormalization(axis=chan_dim)(x)\n",
    "            \n",
    "        x = Conv2DTranspose(depth, kernel_size=kernel_size, padding='same', activation='sigmoid')(x)\n",
    "        \n",
    "        outputs = x\n",
    "        \n",
    "        decoder = Model(latent_inputs, outputs, name='decoder')\n",
    "        \n",
    "        autoencoder = Model(inputs, decoder(encoder(inputs)), name='autoencoder')\n",
    "        \n",
    "        return (encoder, decoder, autoencoder)\n",
    "    \n",
    "\n",
    "class Time_Freq_Autoencoder(tf.keras.Model):\n",
    "    \n",
    "    def __init__(self, image_width, image_height, image_depth=1, latent_dim=256, kernel_size=5):\n",
    "        super().__init__()\n",
    "        \n",
    "        self.encoder, self.decoder, self.autoencoder = Time_Freq_Autoencoder_Builder.build(width=image_width, height=image_height, depth=image_depth, latent_dim=256, kernel_size=kernel_size)\n",
    "        \n",
    "    def call(self, x):\n",
    "        autoencoded = self.autoencoder(x)\n",
    "        return autoencoded\n",
    "    \n",
    "autoencoder = Time_Freq_Autoencoder(image_width=img_width, image_height=img_height, latent_dim=256, kernel_size=5)"
   ]
  },
  {
   "cell_type": "code",
   "execution_count": 5,
   "id": "c9b38523",
   "metadata": {},
   "outputs": [],
   "source": [
    "opt = Adam(learning_rate=1e-3)\n",
    "\n",
    "autoencoder.compile(optimizer=opt, loss=tf.keras.losses.mse)"
   ]
  },
  {
   "cell_type": "code",
   "execution_count": 6,
   "id": "4522d881",
   "metadata": {},
   "outputs": [
    {
     "name": "stdout",
     "output_type": "stream",
     "text": [
      "Model: \"encoder\"\n",
      "__________________________________________________________________________________________________\n",
      " Layer (type)                   Output Shape         Param #     Connected to                     \n",
      "==================================================================================================\n",
      " input_1 (InputLayer)           [(None, 128, 128, 1  0           []                               \n",
      "                                )]                                                                \n",
      "                                                                                                  \n",
      " tf.compat.v1.transpose (TFOpLa  (None, 128, 128, 1)  0          ['input_1[0][0]']                \n",
      " mbda)                                                                                            \n",
      "                                                                                                  \n",
      " reshape (Reshape)              (None, 128, 128)     0           ['input_1[0][0]']                \n",
      "                                                                                                  \n",
      " reshape_1 (Reshape)            (None, 128, 128)     0           ['tf.compat.v1.transpose[0][0]'] \n",
      "                                                                                                  \n",
      " conv1d (Conv1D)                (None, 64, 32)       20512       ['reshape[0][0]']                \n",
      "                                                                                                  \n",
      " conv1d_4 (Conv1D)              (None, 64, 32)       20512       ['reshape_1[0][0]']              \n",
      "                                                                                                  \n",
      " batch_normalization (BatchNorm  (None, 64, 32)      128         ['conv1d[0][0]']                 \n",
      " alization)                                                                                       \n",
      "                                                                                                  \n",
      " batch_normalization_4 (BatchNo  (None, 64, 32)      128         ['conv1d_4[0][0]']               \n",
      " rmalization)                                                                                     \n",
      "                                                                                                  \n",
      " conv1d_1 (Conv1D)              (None, 32, 64)       10304       ['batch_normalization[0][0]']    \n",
      "                                                                                                  \n",
      " conv1d_5 (Conv1D)              (None, 32, 64)       10304       ['batch_normalization_4[0][0]']  \n",
      "                                                                                                  \n",
      " batch_normalization_1 (BatchNo  (None, 32, 64)      256         ['conv1d_1[0][0]']               \n",
      " rmalization)                                                                                     \n",
      "                                                                                                  \n",
      " batch_normalization_5 (BatchNo  (None, 32, 64)      256         ['conv1d_5[0][0]']               \n",
      " rmalization)                                                                                     \n",
      "                                                                                                  \n",
      " conv1d_2 (Conv1D)              (None, 16, 128)      41088       ['batch_normalization_1[0][0]']  \n",
      "                                                                                                  \n",
      " conv1d_6 (Conv1D)              (None, 16, 128)      41088       ['batch_normalization_5[0][0]']  \n",
      "                                                                                                  \n",
      " batch_normalization_2 (BatchNo  (None, 16, 128)     512         ['conv1d_2[0][0]']               \n",
      " rmalization)                                                                                     \n",
      "                                                                                                  \n",
      " batch_normalization_6 (BatchNo  (None, 16, 128)     512         ['conv1d_6[0][0]']               \n",
      " rmalization)                                                                                     \n",
      "                                                                                                  \n",
      " conv1d_3 (Conv1D)              (None, 8, 256)       164096      ['batch_normalization_2[0][0]']  \n",
      "                                                                                                  \n",
      " conv1d_7 (Conv1D)              (None, 8, 256)       164096      ['batch_normalization_6[0][0]']  \n",
      "                                                                                                  \n",
      " batch_normalization_3 (BatchNo  (None, 8, 256)      1024        ['conv1d_3[0][0]']               \n",
      " rmalization)                                                                                     \n",
      "                                                                                                  \n",
      " batch_normalization_7 (BatchNo  (None, 8, 256)      1024        ['conv1d_7[0][0]']               \n",
      " rmalization)                                                                                     \n",
      "                                                                                                  \n",
      " flatten (Flatten)              (None, 2048)         0           ['batch_normalization_3[0][0]']  \n",
      "                                                                                                  \n",
      " flatten_1 (Flatten)            (None, 2048)         0           ['batch_normalization_7[0][0]']  \n",
      "                                                                                                  \n",
      " dense (Dense)                  (None, 128)          262272      ['flatten[0][0]']                \n",
      "                                                                                                  \n",
      " dense_1 (Dense)                (None, 128)          262272      ['flatten_1[0][0]']              \n",
      "                                                                                                  \n",
      " concatenate (Concatenate)      (None, 256)          0           ['dense[0][0]',                  \n",
      "                                                                  'dense_1[0][0]']                \n",
      "                                                                                                  \n",
      "==================================================================================================\n",
      "Total params: 1,000,384\n",
      "Trainable params: 998,464\n",
      "Non-trainable params: 1,920\n",
      "__________________________________________________________________________________________________\n"
     ]
    }
   ],
   "source": [
    "autoencoder.encoder.summary()"
   ]
  },
  {
   "cell_type": "code",
   "execution_count": 7,
   "id": "367c556c",
   "metadata": {},
   "outputs": [],
   "source": [
    "autoencoder_path = 'data/autoencoder_256dim_time_freq_128k_10epochs'\n",
    "\n",
    "autoencoder = tf.keras.models.load_model(autoencoder_path)"
   ]
  },
  {
   "cell_type": "code",
   "execution_count": null,
   "id": "6c1be81a",
   "metadata": {},
   "outputs": [
    {
     "name": "stdout",
     "output_type": "stream",
     "text": [
      "Epoch 1/10\n"
     ]
    },
    {
     "name": "stderr",
     "output_type": "stream",
     "text": [
      "2022-08-21 23:13:37.982159: W tensorflow/core/platform/profile_utils/cpu_utils.cc:128] Failed to get CPU frequency: 0 Hz\n"
     ]
    },
    {
     "name": "stdout",
     "output_type": "stream",
     "text": [
      "  25/3920 [..............................] - ETA: 38:48 - loss: 0.0038"
     ]
    }
   ],
   "source": [
    "hist = autoencoder.fit(data_gen.train,\n",
    "                       batch_size=data_gen.batch_size,\n",
    "                       epochs=10,\n",
    "                       validation_data=data_gen.test)"
   ]
  },
  {
   "cell_type": "code",
   "execution_count": null,
   "id": "6777588d",
   "metadata": {},
   "outputs": [],
   "source": [
    "autoencoder_path = 'data/autoencoder_256dim_time_freq_128k_20epochs'"
   ]
  },
  {
   "cell_type": "code",
   "execution_count": null,
   "id": "27c995e1",
   "metadata": {},
   "outputs": [],
   "source": [
    "autoencoder.save(autoencoder_path)"
   ]
  },
  {
   "cell_type": "code",
   "execution_count": null,
   "id": "9471b023",
   "metadata": {},
   "outputs": [],
   "source": [
    "loss = hist.history['loss']\n",
    "val_loss = hist.history['val_loss']\n",
    "plt.plot(range(len(loss)), loss)\n",
    "plt.plot(range(len(val_loss)), val_loss)"
   ]
  },
  {
   "cell_type": "code",
   "execution_count": null,
   "id": "89e93311",
   "metadata": {},
   "outputs": [],
   "source": [
    "test_img = data_gen.take(1)[0]\n",
    "prediction = autoencoder(test_img)\n",
    "\n",
    "plot_reconstruction(test_img, prediction, 1)"
   ]
  },
  {
   "cell_type": "code",
   "execution_count": null,
   "id": "87b4f805",
   "metadata": {},
   "outputs": [],
   "source": [
    "from src.LatentSpace import LatentSpace\n",
    "\n",
    "latent_space = LatentSpace(autoencoder_path=autoencoder_path,\n",
    "                        image_dir='data/Spotify/comp_pngs/',\n",
    "                        tracks_feather_path='data/all_tracks.feather',\n",
    "                       latent_dims=256,\n",
    "                       output_size=(128, 128),\n",
    "                       num_tiles=32\n",
    "                        )"
   ]
  },
  {
   "cell_type": "code",
   "execution_count": null,
   "id": "695af228",
   "metadata": {},
   "outputs": [],
   "source": [
    "latent_space.build()\n",
    "latent_space.save(autoencoder_path)"
   ]
  }
 ],
 "metadata": {
  "kernelspec": {
   "display_name": "Python 3 (ipykernel)",
   "language": "python",
   "name": "python3"
  },
  "language_info": {
   "codemirror_mode": {
    "name": "ipython",
    "version": 3
   },
   "file_extension": ".py",
   "mimetype": "text/x-python",
   "name": "python",
   "nbconvert_exporter": "python",
   "pygments_lexer": "ipython3",
   "version": "3.9.13"
  }
 },
 "nbformat": 4,
 "nbformat_minor": 5
}
