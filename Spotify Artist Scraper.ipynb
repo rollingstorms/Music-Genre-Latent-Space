{
 "cells": [
  {
   "cell_type": "code",
   "execution_count": 1,
   "id": "c602c4a1",
   "metadata": {},
   "outputs": [],
   "source": [
    "import json\n",
    "import requests\n",
    "import pandas as pd\n",
    "import numpy as np\n",
    "import matplotlib.pyplot as plt\n",
    "%matplotlib inline\n",
    "import librosa\n",
    "import math\n",
    "import time"
   ]
  },
  {
   "cell_type": "code",
   "execution_count": 2,
   "id": "f9a41952",
   "metadata": {},
   "outputs": [],
   "source": [
    "#Load the api client id and secret from file\n",
    "f = open('data/apikeys/.apikeys.json')\n",
    "apikeys = json.load(f)\n",
    "CLIENT_ID = apikeys['clientId']\n",
    "CLIENT_SECRET = apikeys['clientSecret']"
   ]
  },
  {
   "cell_type": "code",
   "execution_count": 3,
   "id": "e2e8db46",
   "metadata": {},
   "outputs": [],
   "source": [
    "#get access token\n",
    "def authenticate_token():\n",
    "    AUTH_URL = 'https://accounts.spotify.com/api/token'\n",
    "\n",
    "    auth_response = requests.post(AUTH_URL, {\n",
    "        'grant_type': 'client_credentials',\n",
    "        'client_id': CLIENT_ID,\n",
    "        'client_secret': CLIENT_SECRET,\n",
    "    })\n",
    "\n",
    "    # convert the response to JSON\n",
    "    auth_response_data = auth_response.json()\n",
    "\n",
    "    # save the access token\n",
    "    access_token = auth_response_data['access_token']\n",
    "\n",
    "    headers = {\n",
    "        'Authorization': f'Bearer {access_token}'\n",
    "    }\n",
    "    return headers\n",
    "\n",
    "headers = authenticate_token()"
   ]
  },
  {
   "cell_type": "code",
   "execution_count": 4,
   "id": "bb610eb4",
   "metadata": {},
   "outputs": [],
   "source": [
    "# base URL of all Spotify API endpoints\n",
    "BASE_URL = 'https://api.spotify.com/v1/'\n",
    "\n",
    "genre_seeds = requests.get(BASE_URL + 'recommendations/available-genre-seeds', headers=headers)"
   ]
  },
  {
   "cell_type": "code",
   "execution_count": 5,
   "id": "02d30d32",
   "metadata": {},
   "outputs": [],
   "source": [
    "genre_seeds = genre_seeds.json()['genres']"
   ]
  },
  {
   "cell_type": "code",
   "execution_count": 11,
   "id": "4c11548d",
   "metadata": {},
   "outputs": [],
   "source": [
    "from pyarrow import feather\n",
    "feather.write_feather(pd.DataFrame(genre_seeds, columns=['genre']), 'data/genre_seeds.feather')"
   ]
  },
  {
   "cell_type": "code",
   "execution_count": 6,
   "id": "7bab202b",
   "metadata": {},
   "outputs": [
    {
     "name": "stdout",
     "output_type": "stream",
     "text": [
      "126 / 126\r"
     ]
    }
   ],
   "source": [
    "results =[]\n",
    "for idx, genre in enumerate(genre_seeds):\n",
    "    params = {\n",
    "        'seed_genres':genre,\n",
    "        'limit':100\n",
    "    }\n",
    "\n",
    "    recs = requests.get(BASE_URL + 'recommendations', params=params, headers=headers)\n",
    "    rec_tracks = recs.json()['tracks']\n",
    "    for track in rec_tracks:\n",
    "        artist = track['artists'][0]\n",
    "        name = artist['name']\n",
    "        id = artist['id']\n",
    "        result = {'artist_name':name, 'artist_id':id}\n",
    "        results.append(result)\n",
    "    print(f'{idx+1} / {len(genre_seeds)}', end='\\r')"
   ]
  },
  {
   "cell_type": "code",
   "execution_count": 7,
   "id": "3b0f6104",
   "metadata": {},
   "outputs": [],
   "source": [
    "genre_artists_df = pd.DataFrame(results)"
   ]
  },
  {
   "cell_type": "code",
   "execution_count": 8,
   "id": "d15e8e45",
   "metadata": {},
   "outputs": [],
   "source": [
    "genre_artists_df = genre_artists_df.drop_duplicates().reset_index(drop=True)"
   ]
  },
  {
   "cell_type": "code",
   "execution_count": 9,
   "id": "7f5027c0",
   "metadata": {},
   "outputs": [
    {
     "data": {
      "text/plain": [
       "0       1uNFoZAHBGtllmzznpCI3s\n",
       "1       0YLUOdFiedWIWBttlDAQeO\n",
       "2       3LRldYGJpCAQT5cZKQyi7o\n",
       "3       2Q44GAsVvUt6y0TwPiZZvS\n",
       "4       6olE6TJLqED3rqDCT0FyPh\n",
       "                 ...          \n",
       "5700    6V46XOVfnoCXHWBeZ92k5b\n",
       "5701    4G5ZJny3HvX6Il7eHVfnNC\n",
       "5702    5dss7E1Ph0KxuF1ULfAx4D\n",
       "5703    4r4tRC1EUpfUCLjwQXP5EA\n",
       "5704    2GUxWjR8cNgljddVLEp72u\n",
       "Name: artist_id, Length: 5705, dtype: object"
      ]
     },
     "execution_count": 9,
     "metadata": {},
     "output_type": "execute_result"
    }
   ],
   "source": [
    "genre_artists_df.artist_id"
   ]
  },
  {
   "cell_type": "code",
   "execution_count": 10,
   "id": "8d14f4d6",
   "metadata": {},
   "outputs": [],
   "source": [
    "chunk_size = math.ceil(len(genre_artists_df) / 50)"
   ]
  },
  {
   "cell_type": "code",
   "execution_count": 11,
   "id": "e7b4aec2",
   "metadata": {},
   "outputs": [
    {
     "data": {
      "text/plain": [
       "115"
      ]
     },
     "execution_count": 11,
     "metadata": {},
     "output_type": "execute_result"
    }
   ],
   "source": [
    "chunk_size"
   ]
  },
  {
   "cell_type": "code",
   "execution_count": 12,
   "id": "f7b62fd1",
   "metadata": {},
   "outputs": [],
   "source": [
    "genre_artists_df['genres'] = float('nan')\n",
    "genre_artists_df['popularity'] = float('nan')"
   ]
  },
  {
   "cell_type": "code",
   "execution_count": 14,
   "id": "720eb050",
   "metadata": {},
   "outputs": [
    {
     "data": {
      "text/html": [
       "<div>\n",
       "<style scoped>\n",
       "    .dataframe tbody tr th:only-of-type {\n",
       "        vertical-align: middle;\n",
       "    }\n",
       "\n",
       "    .dataframe tbody tr th {\n",
       "        vertical-align: top;\n",
       "    }\n",
       "\n",
       "    .dataframe thead th {\n",
       "        text-align: right;\n",
       "    }\n",
       "</style>\n",
       "<table border=\"1\" class=\"dataframe\">\n",
       "  <thead>\n",
       "    <tr style=\"text-align: right;\">\n",
       "      <th></th>\n",
       "      <th>artist_name</th>\n",
       "      <th>artist_id</th>\n",
       "      <th>genres</th>\n",
       "      <th>popularity</th>\n",
       "    </tr>\n",
       "  </thead>\n",
       "  <tbody>\n",
       "    <tr>\n",
       "      <th>0</th>\n",
       "      <td>Justin Bieber</td>\n",
       "      <td>1uNFoZAHBGtllmzznpCI3s</td>\n",
       "      <td>NaN</td>\n",
       "      <td>NaN</td>\n",
       "    </tr>\n",
       "    <tr>\n",
       "      <th>1</th>\n",
       "      <td>Joshua James</td>\n",
       "      <td>0YLUOdFiedWIWBttlDAQeO</td>\n",
       "      <td>NaN</td>\n",
       "      <td>NaN</td>\n",
       "    </tr>\n",
       "    <tr>\n",
       "      <th>2</th>\n",
       "      <td>Hannah Peel</td>\n",
       "      <td>3LRldYGJpCAQT5cZKQyi7o</td>\n",
       "      <td>NaN</td>\n",
       "      <td>NaN</td>\n",
       "    </tr>\n",
       "    <tr>\n",
       "      <th>3</th>\n",
       "      <td>Olle Hedberg</td>\n",
       "      <td>2Q44GAsVvUt6y0TwPiZZvS</td>\n",
       "      <td>NaN</td>\n",
       "      <td>NaN</td>\n",
       "    </tr>\n",
       "    <tr>\n",
       "      <th>4</th>\n",
       "      <td>Nirvana</td>\n",
       "      <td>6olE6TJLqED3rqDCT0FyPh</td>\n",
       "      <td>NaN</td>\n",
       "      <td>NaN</td>\n",
       "    </tr>\n",
       "    <tr>\n",
       "      <th>...</th>\n",
       "      <td>...</td>\n",
       "      <td>...</td>\n",
       "      <td>...</td>\n",
       "      <td>...</td>\n",
       "    </tr>\n",
       "    <tr>\n",
       "      <th>5700</th>\n",
       "      <td>Mapumba</td>\n",
       "      <td>6V46XOVfnoCXHWBeZ92k5b</td>\n",
       "      <td>NaN</td>\n",
       "      <td>NaN</td>\n",
       "    </tr>\n",
       "    <tr>\n",
       "      <th>5701</th>\n",
       "      <td>Fatoumata Diawara</td>\n",
       "      <td>4G5ZJny3HvX6Il7eHVfnNC</td>\n",
       "      <td>NaN</td>\n",
       "      <td>NaN</td>\n",
       "    </tr>\n",
       "    <tr>\n",
       "      <th>5702</th>\n",
       "      <td>Ibrahim Ferrer</td>\n",
       "      <td>5dss7E1Ph0KxuF1ULfAx4D</td>\n",
       "      <td>NaN</td>\n",
       "      <td>NaN</td>\n",
       "    </tr>\n",
       "    <tr>\n",
       "      <th>5703</th>\n",
       "      <td>Brooklyn Funk Essentials</td>\n",
       "      <td>4r4tRC1EUpfUCLjwQXP5EA</td>\n",
       "      <td>NaN</td>\n",
       "      <td>NaN</td>\n",
       "    </tr>\n",
       "    <tr>\n",
       "      <th>5704</th>\n",
       "      <td>Ali Akbar Khan</td>\n",
       "      <td>2GUxWjR8cNgljddVLEp72u</td>\n",
       "      <td>NaN</td>\n",
       "      <td>NaN</td>\n",
       "    </tr>\n",
       "  </tbody>\n",
       "</table>\n",
       "<p>5705 rows × 4 columns</p>\n",
       "</div>"
      ],
      "text/plain": [
       "                   artist_name               artist_id  genres  popularity\n",
       "0                Justin Bieber  1uNFoZAHBGtllmzznpCI3s     NaN         NaN\n",
       "1                 Joshua James  0YLUOdFiedWIWBttlDAQeO     NaN         NaN\n",
       "2                  Hannah Peel  3LRldYGJpCAQT5cZKQyi7o     NaN         NaN\n",
       "3                 Olle Hedberg  2Q44GAsVvUt6y0TwPiZZvS     NaN         NaN\n",
       "4                      Nirvana  6olE6TJLqED3rqDCT0FyPh     NaN         NaN\n",
       "...                        ...                     ...     ...         ...\n",
       "5700                   Mapumba  6V46XOVfnoCXHWBeZ92k5b     NaN         NaN\n",
       "5701         Fatoumata Diawara  4G5ZJny3HvX6Il7eHVfnNC     NaN         NaN\n",
       "5702            Ibrahim Ferrer  5dss7E1Ph0KxuF1ULfAx4D     NaN         NaN\n",
       "5703  Brooklyn Funk Essentials  4r4tRC1EUpfUCLjwQXP5EA     NaN         NaN\n",
       "5704            Ali Akbar Khan  2GUxWjR8cNgljddVLEp72u     NaN         NaN\n",
       "\n",
       "[5705 rows x 4 columns]"
      ]
     },
     "execution_count": 14,
     "metadata": {},
     "output_type": "execute_result"
    }
   ],
   "source": [
    "genre_artists_df"
   ]
  },
  {
   "cell_type": "code",
   "execution_count": 19,
   "id": "984cad40",
   "metadata": {},
   "outputs": [
    {
     "name": "stdout",
     "output_type": "stream",
     "text": [
      "5705 / 5705\r"
     ]
    }
   ],
   "source": [
    "genre_artists_full_results = []\n",
    "for artists in np.array_split(genre_artists_df, chunk_size):\n",
    "    params = {'ids' : ','.join(list(artists.artist_id))}\n",
    "    several_artists = requests.get(BASE_URL+'artists/', params=params, headers=headers)\n",
    "    for i in artists.index:\n",
    "        j = i - artists.index[0]\n",
    "        result = {\n",
    "            'artist_name': genre_artists_df.loc[i, 'artist_name'],\n",
    "            'artist_id': genre_artists_df.loc[i, 'artist_id'],\n",
    "            'genres': several_artists.json()['artists'][j]['genres'],\n",
    "            'popularity': several_artists.json()['artists'][j]['popularity']\n",
    "        }\n",
    "        genre_artists_full_results.append(result)\n",
    "        print(f'{i+1} / {len(genre_artists_df)}', end= '\\r')\n",
    "        \n",
    "genre_artists_df = pd.DataFrame(genre_artists_full_results)"
   ]
  },
  {
   "cell_type": "code",
   "execution_count": 20,
   "id": "4f2ba734",
   "metadata": {},
   "outputs": [
    {
     "data": {
      "text/html": [
       "<div>\n",
       "<style scoped>\n",
       "    .dataframe tbody tr th:only-of-type {\n",
       "        vertical-align: middle;\n",
       "    }\n",
       "\n",
       "    .dataframe tbody tr th {\n",
       "        vertical-align: top;\n",
       "    }\n",
       "\n",
       "    .dataframe thead th {\n",
       "        text-align: right;\n",
       "    }\n",
       "</style>\n",
       "<table border=\"1\" class=\"dataframe\">\n",
       "  <thead>\n",
       "    <tr style=\"text-align: right;\">\n",
       "      <th></th>\n",
       "      <th>artist_name</th>\n",
       "      <th>artist_id</th>\n",
       "      <th>genres</th>\n",
       "      <th>popularity</th>\n",
       "    </tr>\n",
       "  </thead>\n",
       "  <tbody>\n",
       "    <tr>\n",
       "      <th>0</th>\n",
       "      <td>Justin Bieber</td>\n",
       "      <td>1uNFoZAHBGtllmzznpCI3s</td>\n",
       "      <td>[canadian pop, pop]</td>\n",
       "      <td>90</td>\n",
       "    </tr>\n",
       "    <tr>\n",
       "      <th>1</th>\n",
       "      <td>Joshua James</td>\n",
       "      <td>0YLUOdFiedWIWBttlDAQeO</td>\n",
       "      <td>[utah indie]</td>\n",
       "      <td>38</td>\n",
       "    </tr>\n",
       "    <tr>\n",
       "      <th>2</th>\n",
       "      <td>Hannah Peel</td>\n",
       "      <td>3LRldYGJpCAQT5cZKQyi7o</td>\n",
       "      <td>[chamber psych, folktronica, spectra]</td>\n",
       "      <td>33</td>\n",
       "    </tr>\n",
       "    <tr>\n",
       "      <th>3</th>\n",
       "      <td>Olle Hedberg</td>\n",
       "      <td>2Q44GAsVvUt6y0TwPiZZvS</td>\n",
       "      <td>[]</td>\n",
       "      <td>8</td>\n",
       "    </tr>\n",
       "    <tr>\n",
       "      <th>4</th>\n",
       "      <td>Nirvana</td>\n",
       "      <td>6olE6TJLqED3rqDCT0FyPh</td>\n",
       "      <td>[alternative rock, grunge, permanent wave, rock]</td>\n",
       "      <td>80</td>\n",
       "    </tr>\n",
       "    <tr>\n",
       "      <th>...</th>\n",
       "      <td>...</td>\n",
       "      <td>...</td>\n",
       "      <td>...</td>\n",
       "      <td>...</td>\n",
       "    </tr>\n",
       "    <tr>\n",
       "      <th>5700</th>\n",
       "      <td>Mapumba</td>\n",
       "      <td>6V46XOVfnoCXHWBeZ92k5b</td>\n",
       "      <td>[]</td>\n",
       "      <td>6</td>\n",
       "    </tr>\n",
       "    <tr>\n",
       "      <th>5701</th>\n",
       "      <td>Fatoumata Diawara</td>\n",
       "      <td>4G5ZJny3HvX6Il7eHVfnNC</td>\n",
       "      <td>[afropop, desert blues, malian blues, mande po...</td>\n",
       "      <td>54</td>\n",
       "    </tr>\n",
       "    <tr>\n",
       "      <th>5702</th>\n",
       "      <td>Ibrahim Ferrer</td>\n",
       "      <td>5dss7E1Ph0KxuF1ULfAx4D</td>\n",
       "      <td>[bolero, cuban rumba, latin jazz, musica tradi...</td>\n",
       "      <td>47</td>\n",
       "    </tr>\n",
       "    <tr>\n",
       "      <th>5703</th>\n",
       "      <td>Brooklyn Funk Essentials</td>\n",
       "      <td>4r4tRC1EUpfUCLjwQXP5EA</td>\n",
       "      <td>[modern funk, nu jazz]</td>\n",
       "      <td>41</td>\n",
       "    </tr>\n",
       "    <tr>\n",
       "      <th>5704</th>\n",
       "      <td>Ali Akbar Khan</td>\n",
       "      <td>2GUxWjR8cNgljddVLEp72u</td>\n",
       "      <td>[dhrupad, hindustani classical, hindustani ins...</td>\n",
       "      <td>29</td>\n",
       "    </tr>\n",
       "  </tbody>\n",
       "</table>\n",
       "<p>5705 rows × 4 columns</p>\n",
       "</div>"
      ],
      "text/plain": [
       "                   artist_name               artist_id  \\\n",
       "0                Justin Bieber  1uNFoZAHBGtllmzznpCI3s   \n",
       "1                 Joshua James  0YLUOdFiedWIWBttlDAQeO   \n",
       "2                  Hannah Peel  3LRldYGJpCAQT5cZKQyi7o   \n",
       "3                 Olle Hedberg  2Q44GAsVvUt6y0TwPiZZvS   \n",
       "4                      Nirvana  6olE6TJLqED3rqDCT0FyPh   \n",
       "...                        ...                     ...   \n",
       "5700                   Mapumba  6V46XOVfnoCXHWBeZ92k5b   \n",
       "5701         Fatoumata Diawara  4G5ZJny3HvX6Il7eHVfnNC   \n",
       "5702            Ibrahim Ferrer  5dss7E1Ph0KxuF1ULfAx4D   \n",
       "5703  Brooklyn Funk Essentials  4r4tRC1EUpfUCLjwQXP5EA   \n",
       "5704            Ali Akbar Khan  2GUxWjR8cNgljddVLEp72u   \n",
       "\n",
       "                                                 genres  popularity  \n",
       "0                                   [canadian pop, pop]          90  \n",
       "1                                          [utah indie]          38  \n",
       "2                 [chamber psych, folktronica, spectra]          33  \n",
       "3                                                    []           8  \n",
       "4      [alternative rock, grunge, permanent wave, rock]          80  \n",
       "...                                                 ...         ...  \n",
       "5700                                                 []           6  \n",
       "5701  [afropop, desert blues, malian blues, mande po...          54  \n",
       "5702  [bolero, cuban rumba, latin jazz, musica tradi...          47  \n",
       "5703                             [modern funk, nu jazz]          41  \n",
       "5704  [dhrupad, hindustani classical, hindustani ins...          29  \n",
       "\n",
       "[5705 rows x 4 columns]"
      ]
     },
     "execution_count": 20,
     "metadata": {},
     "output_type": "execute_result"
    }
   ],
   "source": [
    "genre_artists_df"
   ]
  },
  {
   "cell_type": "code",
   "execution_count": 21,
   "id": "71d61f26",
   "metadata": {},
   "outputs": [],
   "source": [
    "related_dfs = [genre_artists_df]"
   ]
  },
  {
   "cell_type": "code",
   "execution_count": null,
   "id": "e24971ea",
   "metadata": {},
   "outputs": [],
   "source": [
    "for i in range(1,3):\n",
    "    new_artists = []\n",
    "    for idx, artist in related_dfs[i-1].iterrows():\n",
    "        related = requests.get(BASE_URL+'artists/'+artist.artist_id+'/related-artists', headers=headers)\n",
    "        while(related.ok == False):\n",
    "            if related.status_code == 401:\n",
    "                headers = authenticate_token()\n",
    "                related = requests.get(BASE_URL+'artists/'+artist.artist_id+'/related-artists', headers=headers)\n",
    "            elif related.status_code == 429:\n",
    "                time.sleep(30)\n",
    "                related = requests.get(BASE_URL+'artists/'+artist.artist_id+'/related-artists', headers=headers)\n",
    "            else:\n",
    "                break\n",
    "        for new_artist in related.json()['artists']:\n",
    "            new_row = {'artist_name': new_artist['name'],\n",
    "                      'artist_id': new_artist['id'],\n",
    "                      'genres': new_artist['genres'],\n",
    "                      'popularity': new_artist['popularity']}\n",
    "            new_artists.append(new_row)\n",
    "        print(f'{idx+1} / {len(related_dfs[i-1])}', end='\\r')\n",
    "    print('\\n')\n",
    "    related_dfs.append(pd.DataFrame(new_artists))\n",
    "    related_dfs[i] = related_dfs[i].drop_duplicates(subset=['artist_id'])\n",
    "        "
   ]
  },
  {
   "cell_type": "code",
   "execution_count": 37,
   "id": "52cddc2b",
   "metadata": {},
   "outputs": [],
   "source": [
    "all_artists = pd.concat([df for df in related_dfs])"
   ]
  },
  {
   "cell_type": "code",
   "execution_count": 38,
   "id": "8d361ff3",
   "metadata": {},
   "outputs": [],
   "source": [
    "all_artists = all_artists.drop_duplicates(subset=['artist_id']).reset_index(drop=True)"
   ]
  },
  {
   "cell_type": "code",
   "execution_count": null,
   "id": "d6ff159c",
   "metadata": {},
   "outputs": [],
   "source": [
    "all_tracks = []"
   ]
  },
  {
   "cell_type": "code",
   "execution_count": 121,
   "id": "0ed7df23",
   "metadata": {},
   "outputs": [
    {
     "name": "stdout",
     "output_type": "stream",
     "text": [
      "72259 / 72259\r"
     ]
    }
   ],
   "source": [
    "for idx, artist in all_artists.iterrows():\n",
    "    top_tracks = requests.get(BASE_URL+'artists/'+artist.artist_id+'/top-tracks?market=US', headers=headers)\n",
    "    for track in top_tracks.json()['tracks']:\n",
    "        track_info = {\n",
    "            'track_id': track['id'],\n",
    "            'track_name': track['name'],\n",
    "            'track_preview_link': track['preview_url'],\n",
    "            'track_popularity': track['popularity'],\n",
    "            'track_uri': track['uri'],\n",
    "            'release_date':track['album']['release_date'],\n",
    "            'artist_name': artist.artist_name,\n",
    "            'artist_id': artist.artist_id,\n",
    "            'artist_genres': artist.genres,\n",
    "            'artist_popularity': artist.popularity\n",
    "        }\n",
    "        all_tracks.append(track_info)\n",
    "    print(f'{idx+1} / {len(all_artists)}', end='\\r')\n",
    "all_tracks_df = pd.DataFrame(all_tracks)"
   ]
  },
  {
   "cell_type": "code",
   "execution_count": 162,
   "id": "15cf6d4d",
   "metadata": {},
   "outputs": [
    {
     "data": {
      "text/plain": [
       "12771"
      ]
     },
     "execution_count": 162,
     "metadata": {},
     "output_type": "execute_result"
    }
   ],
   "source": [
    "track_chunk_size"
   ]
  },
  {
   "cell_type": "code",
   "execution_count": null,
   "id": "9d91e034",
   "metadata": {
    "scrolled": true
   },
   "outputs": [],
   "source": [
    "track_chunk_size = math.ceil(len(all_tracks_2) / 50)\n",
    "\n",
    "release_dates = []\n",
    "for tracks in np.array_split(all_tracks_2, track_chunk_size):\n",
    "    params = {'ids' : ','.join(list(tracks.track_id)),\n",
    "             'market': 'US'}\n",
    "    several_tracks = requests.get(BASE_URL+'tracks/', params=params, headers=headers)\n",
    "    for i in tracks.index:\n",
    "        j = i - tracks.index[0]\n",
    "        result = {\n",
    "            'track_id': several_tracks.json()['tracks'][j]['id'],\n",
    "            'release_date': several_tracks.json()['tracks'][j]['album']['release_date']\n",
    "        }\n",
    "        release_dates.append(result)\n",
    "        print(f'{i+1} / {len(all_tracks_2)}', end= '\\r')"
   ]
  },
  {
   "cell_type": "code",
   "execution_count": 164,
   "id": "2d80d81a",
   "metadata": {},
   "outputs": [
    {
     "data": {
      "text/plain": [
       "459111"
      ]
     },
     "execution_count": 164,
     "metadata": {},
     "output_type": "execute_result"
    }
   ],
   "source": [
    "len(release_dates)"
   ]
  },
  {
   "cell_type": "code",
   "execution_count": 174,
   "id": "5fd24b66",
   "metadata": {},
   "outputs": [],
   "source": [
    "from pyarrow import feather\n",
    "feather.write_feather(all_tracks_2, 'data/all_tracks.feather')\n",
    "feather.write_feather(all_artists, 'data/all_artists.feather')"
   ]
  },
  {
   "cell_type": "code",
   "execution_count": null,
   "id": "983dab5e",
   "metadata": {},
   "outputs": [],
   "source": []
  }
 ],
 "metadata": {
  "kernelspec": {
   "display_name": "Python 3 (ipykernel)",
   "language": "python",
   "name": "python3"
  },
  "language_info": {
   "codemirror_mode": {
    "name": "ipython",
    "version": 3
   },
   "file_extension": ".py",
   "mimetype": "text/x-python",
   "name": "python",
   "nbconvert_exporter": "python",
   "pygments_lexer": "ipython3",
   "version": "3.9.13"
  },
  "vscode": {
   "interpreter": {
    "hash": "070a145ccbfd94928d8b02e0f12481291355ea024c814c19aad4f054b2ae60ee"
   }
  }
 },
 "nbformat": 4,
 "nbformat_minor": 5
}
