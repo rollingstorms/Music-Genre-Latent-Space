{
 "cells": [
  {
   "cell_type": "markdown",
   "id": "36fec77d",
   "metadata": {},
   "source": [
    "# Exploring the Sonic Landscape of Spotify\n",
    "\n",
    "\n",
    "If you're like me, you love music. I love music and I love to find new music. If you don't already know - which if you're reading this you probably do - Spotify is one of the top streaming services for music on the internet, and it includes amazing tools that help you to discover new music based on what you listen to. It does this through a combination of different algortihms, including collaboritive filtering where similar usage between users is tracked and used to generate recommendations, or content based recommendations which recommend new songs based on similar information between the information linked to a song. Like a song? On Spotify, you can listen to that songs 'radio', which will collect a group of songs similar to that song in some way or a combination of ways. What if you like a song, but don't care about any information other than just the sound in it? Sometimes, that is all I want to hear.\n",
    "\n",
    "This project attempts to create a music recomendation system based the information in the sound of the music alone. It will help a user to find new music through similar sounding songs. To do that, it will also explore the similarities between all music, and attempt to capture the timbre, rhythm, and style of a song mathematically.\n",
    "\n",
    "### What is sound?\n",
    "\n",
    "Sound is always around us. Throughout our lives, we grow to discern different sounds from others. Music is no different - there are many types of music and music is often a combination of many different kinds of sounds and rhythms that we can also discern apart some kinds from others. But can we quantify that information for ourselves? Sometimes, music is categorized into genres, meaning that a genre is a group of music with similar qualities of style, form, rhythm, timbre, instruments, or culture. But not every musical artist creates in the same genre, or not every genre contains the same kind of music. So what is sound and how to do we judge ...\n",
    "\n",
    "1. What is sound\n",
    "2. What is a signal, frequency\n",
    "3. What does a waveform look like\n",
    "4. What does music look like\n",
    "5. Why not just use the signal\n",
    "6. What is Fourier transform\n",
    "7. What is a Mel spectogram\n",
    "8. What is timbre\n",
    "\n",
    "\n",
    "\n",
    "\n",
    "\n"
   ]
  },
  {
   "cell_type": "markdown",
   "id": "f2bfad5c",
   "metadata": {},
   "source": [
    "# Outline of the Project\n",
    "\n",
    "Steps of the project:\n",
    "\n",
    "- Scrape tracks from Spotify's API\n",
    "- Convert Waveforms to Mel Spectograms\n",
    "- Train an autoencoder network to extract latent features from the audio information\n",
    "-"
   ]
  },
  {
   "cell_type": "code",
   "execution_count": null,
   "id": "e060c387",
   "metadata": {},
   "outputs": [],
   "source": []
  }
 ],
 "metadata": {
  "kernelspec": {
   "display_name": "Python 3 (ipykernel)",
   "language": "python",
   "name": "python3"
  },
  "language_info": {
   "codemirror_mode": {
    "name": "ipython",
    "version": 3
   },
   "file_extension": ".py",
   "mimetype": "text/x-python",
   "name": "python",
   "nbconvert_exporter": "python",
   "pygments_lexer": "ipython3",
   "version": "3.9.13"
  }
 },
 "nbformat": 4,
 "nbformat_minor": 5
}
